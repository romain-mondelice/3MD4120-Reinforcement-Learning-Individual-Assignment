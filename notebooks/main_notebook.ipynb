{
 "cells": [
  {
   "cell_type": "markdown",
   "metadata": {},
   "source": [
    "## Text Flappy Bird\n",
    "*Romain Mondelice*"
   ]
  },
  {
   "cell_type": "markdown",
   "metadata": {},
   "source": [
    "The goal of this assignment is to apply reinforcement learning methods to a\n",
    "simple game called Text Flappy Bird (TFB). The game is a variation to the\n",
    "well know Flappy Bird in which the player is made with a simple unit-element\n",
    "character"
   ]
  },
  {
   "cell_type": "markdown",
   "metadata": {},
   "source": [
    "## General imports"
   ]
  },
  {
   "cell_type": "code",
   "execution_count": null,
   "metadata": {},
   "outputs": [],
   "source": [
    "import os, sys\n",
    "import gymnasium as gym\n",
    "import time\n",
    "\n",
    "import numpy as np\n",
    "from collections import defaultdict\n",
    "from tqdm import tqdm\n",
    "import pickle\n",
    "\n",
    "import text_flappy_bird_gym"
   ]
  },
  {
   "cell_type": "markdown",
   "metadata": {},
   "source": [
    "## Preprocess env"
   ]
  },
  {
   "cell_type": "code",
   "execution_count": null,
   "metadata": {},
   "outputs": [],
   "source": [
    "# initiate environment\n",
    "env = gym.make('TextFlappyBird-v0', height = 15, width = 20, pipe_gap = 4)\n",
    "obs = env.reset()"
   ]
  },
  {
   "cell_type": "code",
   "execution_count": null,
   "metadata": {},
   "outputs": [],
   "source": [
    "total_reward = 0\n",
    "while True:\n",
    "        # Select next action\n",
    "        action = env.action_space.sample()  # for an agent, action = agent.policy(observation)\n",
    "\n",
    "        # Appy action and return new observation of the environment\n",
    "        obs, reward, done, _, info = env.step(action)\n",
    "        total_reward += reward\n",
    "\n",
    "        # Render the game\n",
    "        os.system(\"clear\")\n",
    "        sys.stdout.write(env.render())\n",
    "        time.sleep(0.2) # FPS\n",
    "\n",
    "        # If player is dead break\n",
    "        if done:\n",
    "            break"
   ]
  },
  {
   "cell_type": "code",
   "execution_count": null,
   "metadata": {},
   "outputs": [],
   "source": [
    "print(total_reward)\n",
    "env.close()"
   ]
  },
  {
   "cell_type": "markdown",
   "metadata": {},
   "source": [
    "## Monte Carlo based agent"
   ]
  },
  {
   "cell_type": "code",
   "execution_count": 124,
   "metadata": {},
   "outputs": [],
   "source": [
    "from collections import defaultdict\n",
    "import numpy as np\n",
    "import random\n",
    "\n",
    "class MonteCarloControlAgent:\n",
    "    def __init__(self, env, gamma=0.9, epsilon=0.1):\n",
    "        self.env = env\n",
    "        self.gamma = gamma  # discount factor\n",
    "        self.epsilon = epsilon  # exploration rate\n",
    "        self.q_table = defaultdict(lambda: np.zeros(env.action_space.n))  # action-value table\n",
    "        self.returns = defaultdict(list)  # store returns for each state-action pair\n",
    "        self.policy = defaultdict(lambda: env.action_space.sample())  # initial policy is still random\n",
    "\n",
    "    def encode_state(self, state):\n",
    "        return str(state)\n",
    "\n",
    "    def generate_episode(self):\n",
    "        episode = []\n",
    "        state = self.env.reset()\n",
    "        done = False\n",
    "        while not done:\n",
    "            encoded_state = self.encode_state(state)\n",
    "            action = self.epsilon_greedy_action(encoded_state)\n",
    "            next_state, reward, done, _, info = self.env.step(action)\n",
    "            episode.append((encoded_state, action, reward))\n",
    "            state = next_state\n",
    "        return episode\n",
    "\n",
    "    def epsilon_greedy_action(self, encoded_state):\n",
    "        if random.random() > self.epsilon:  # Exploit\n",
    "            return np.argmax(self.q_table[encoded_state])\n",
    "        else:  # Explore\n",
    "            return self.env.action_space.sample()\n",
    "\n",
    "    def update_q_values(self, episode):\n",
    "        G = 0\n",
    "        for encoded_state, action, reward in reversed(episode):\n",
    "            G = self.gamma * G + reward\n",
    "            sa_pair = (encoded_state, action)\n",
    "            if sa_pair not in [(x[0], x[1]) for x in episode[:-1]]:\n",
    "                self.returns[sa_pair].append(G)\n",
    "                self.q_table[encoded_state][action] = np.mean(self.returns[sa_pair])\n",
    "    \n",
    "    def improve_policy(self):\n",
    "        for encoded_state in self.q_table:\n",
    "            self.policy[encoded_state] = np.argmax(self.q_table[encoded_state])"
   ]
  },
  {
   "cell_type": "code",
   "execution_count": 128,
   "metadata": {},
   "outputs": [],
   "source": [
    "def train_monte_carlo_agent(env_str, episodes=1000, gamma=0.9, epsilon=0.1):\n",
    "    env = gym.make(env_str, height=15, width=20, pipe_gap=4)\n",
    "    agent = MonteCarloControlAgent(env, gamma=gamma, epsilon=epsilon)\n",
    "\n",
    "    for episode in tqdm(range(episodes), desc=\"Training process\"):\n",
    "        episode_data = agent.generate_episode()\n",
    "        agent.update_q_values(episode_data)  # Use the correct method to update Q-values\n",
    "        agent.improve_policy()\n",
    "    \n",
    "    print(\"Training completed.\")\n",
    "    return agent"
   ]
  },
  {
   "cell_type": "code",
   "execution_count": 129,
   "metadata": {},
   "outputs": [],
   "source": [
    "def test_agent(agent, episodes=100):\n",
    "    total_rewards = 0\n",
    "    for _ in range(episodes):\n",
    "        state = agent.env.reset()\n",
    "        done = False\n",
    "        while not done:\n",
    "            encoded_state = agent.encode_state(state) \n",
    "            action = agent.policy[encoded_state]\n",
    "            state, reward, done, _, info = agent.env.step(action)\n",
    "            total_rewards += reward\n",
    "            \n",
    "    print(\"Total reward: \", total_rewards)\n",
    "    avg_reward = total_rewards / episodes\n",
    "    print(f\"Average Reward over {episodes} episodes: {avg_reward}\")"
   ]
  },
  {
   "cell_type": "markdown",
   "metadata": {},
   "source": [
    "### Text Flappy Bird Screen env"
   ]
  },
  {
   "cell_type": "markdown",
   "metadata": {},
   "source": [
    "#### Training"
   ]
  },
  {
   "cell_type": "code",
   "execution_count": 130,
   "metadata": {},
   "outputs": [
    {
     "ename": "NameError",
     "evalue": "name 'MonteCarloControlAgent' is not defined",
     "output_type": "error",
     "traceback": [
      "\u001b[0;31m---------------------------------------------------------------------------\u001b[0m",
      "\u001b[0;31mNameError\u001b[0m                                 Traceback (most recent call last)",
      "Cell \u001b[0;32mIn[130], line 1\u001b[0m\n\u001b[0;32m----> 1\u001b[0m trained_agent \u001b[38;5;241m=\u001b[39m \u001b[43mtrain_monte_carlo_agent\u001b[49m\u001b[43m(\u001b[49m\u001b[38;5;124;43m'\u001b[39;49m\u001b[38;5;124;43mTextFlappyBird-screen-v0\u001b[39;49m\u001b[38;5;124;43m'\u001b[39;49m\u001b[43m,\u001b[49m\u001b[43m \u001b[49m\u001b[43mepisodes\u001b[49m\u001b[38;5;241;43m=\u001b[39;49m\u001b[38;5;241;43m1000\u001b[39;49m\u001b[43m)\u001b[49m\n",
      "Cell \u001b[0;32mIn[128], line 3\u001b[0m, in \u001b[0;36mtrain_monte_carlo_agent\u001b[0;34m(env_str, episodes, gamma, epsilon)\u001b[0m\n\u001b[1;32m      1\u001b[0m \u001b[38;5;28;01mdef\u001b[39;00m \u001b[38;5;21mtrain_monte_carlo_agent\u001b[39m(env_str, episodes\u001b[38;5;241m=\u001b[39m\u001b[38;5;241m1000\u001b[39m, gamma\u001b[38;5;241m=\u001b[39m\u001b[38;5;241m0.9\u001b[39m, epsilon\u001b[38;5;241m=\u001b[39m\u001b[38;5;241m0.1\u001b[39m):\n\u001b[1;32m      2\u001b[0m     env \u001b[38;5;241m=\u001b[39m gym\u001b[38;5;241m.\u001b[39mmake(env_str, height\u001b[38;5;241m=\u001b[39m\u001b[38;5;241m15\u001b[39m, width\u001b[38;5;241m=\u001b[39m\u001b[38;5;241m20\u001b[39m, pipe_gap\u001b[38;5;241m=\u001b[39m\u001b[38;5;241m4\u001b[39m)\n\u001b[0;32m----> 3\u001b[0m     agent \u001b[38;5;241m=\u001b[39m \u001b[43mMonteCarloControlAgent\u001b[49m(env, gamma\u001b[38;5;241m=\u001b[39mgamma, epsilon\u001b[38;5;241m=\u001b[39mepsilon)\n\u001b[1;32m      5\u001b[0m     \u001b[38;5;28;01mfor\u001b[39;00m episode \u001b[38;5;129;01min\u001b[39;00m tqdm(\u001b[38;5;28mrange\u001b[39m(episodes), desc\u001b[38;5;241m=\u001b[39m\u001b[38;5;124m\"\u001b[39m\u001b[38;5;124mTraining process\u001b[39m\u001b[38;5;124m\"\u001b[39m):\n\u001b[1;32m      6\u001b[0m         episode_data \u001b[38;5;241m=\u001b[39m agent\u001b[38;5;241m.\u001b[39mgenerate_episode()\n",
      "\u001b[0;31mNameError\u001b[0m: name 'MonteCarloControlAgent' is not defined"
     ]
    }
   ],
   "source": [
    "trained_agent = train_monte_carlo_agent('TextFlappyBird-screen-v0', episodes=1000)"
   ]
  },
  {
   "cell_type": "markdown",
   "metadata": {},
   "source": [
    "#### Testing"
   ]
  },
  {
   "cell_type": "code",
   "execution_count": 109,
   "metadata": {},
   "outputs": [
    {
     "name": "stdout",
     "output_type": "stream",
     "text": [
      "Total reward:  1249\n",
      "Average Reward over 100 episodes: 12.49\n"
     ]
    }
   ],
   "source": [
    "# Test the trained Monte Carlo agent\n",
    "test_agent(trained_agent)"
   ]
  },
  {
   "cell_type": "markdown",
   "metadata": {},
   "source": [
    "#### Save agent"
   ]
  },
  {
   "cell_type": "code",
   "execution_count": 110,
   "metadata": {},
   "outputs": [],
   "source": [
    "# Assuming `trained_agent` is your Monte Carlo agent that you have trained\n",
    "with open('../agents/mc-agent-screen.pkl', 'wb') as f:\n",
    "    pickle.dump(trained_agent, f)"
   ]
  },
  {
   "cell_type": "markdown",
   "metadata": {},
   "source": [
    "### Text Flappy Bird env"
   ]
  },
  {
   "cell_type": "markdown",
   "metadata": {},
   "source": [
    "#### Training"
   ]
  },
  {
   "cell_type": "code",
   "execution_count": 120,
   "metadata": {},
   "outputs": [
    {
     "name": "stderr",
     "output_type": "stream",
     "text": [
      "Training process:: 100%|██████████| 100000/100000 [00:51<00:00, 1938.98it/s]"
     ]
    },
    {
     "name": "stdout",
     "output_type": "stream",
     "text": [
      "Training completed.\n"
     ]
    },
    {
     "name": "stderr",
     "output_type": "stream",
     "text": [
      "\n"
     ]
    }
   ],
   "source": [
    "trained_agent = train_monte_carlo_agent('TextFlappyBird-v0', episodes=100000)"
   ]
  },
  {
   "cell_type": "markdown",
   "metadata": {},
   "source": [
    "#### Testing"
   ]
  },
  {
   "cell_type": "code",
   "execution_count": 122,
   "metadata": {},
   "outputs": [
    {
     "name": "stdout",
     "output_type": "stream",
     "text": [
      "Total reward:  1216\n",
      "Average Reward over 100 episodes: 12.16\n"
     ]
    }
   ],
   "source": [
    "test_agent(trained_agent)"
   ]
  },
  {
   "cell_type": "markdown",
   "metadata": {},
   "source": [
    "#### Save"
   ]
  },
  {
   "cell_type": "code",
   "execution_count": 123,
   "metadata": {},
   "outputs": [],
   "source": [
    "# Assuming `trained_agent` is your Monte Carlo agent that you have trained\n",
    "with open('../agents/mc-agent.pkl', 'wb') as f:\n",
    "    pickle.dump(trained_agent, f)"
   ]
  },
  {
   "cell_type": "markdown",
   "metadata": {},
   "source": [
    "## Sarsa based agent"
   ]
  },
  {
   "cell_type": "code",
   "execution_count": null,
   "metadata": {},
   "outputs": [],
   "source": [
    "class SarsaLambdaAgent:\n",
    "    def __init__(self, env, lambda_):\n",
    "        self.env = env\n",
    "        self.lambda_ = lambda_\n",
    "        # Initialize Q-values and eligibility traces\n",
    "        # Define epsilon for epsilon-greedy policy\n",
    "    \n",
    "    def policy(self, observation):\n",
    "        # Define epsilon-greedy policy here\n",
    "        return action\n",
    "    \n",
    "    def update_q_values(self, state, action, reward, next_state, next_action):\n",
    "        # Update Q-values using the Sarsa(λ) formula\n",
    "    \n",
    "    def update_eligibility_traces(self, state, action):\n",
    "        # Update eligibility traces\n"
   ]
  }
 ],
 "metadata": {
  "kernelspec": {
   "display_name": "EC-RL",
   "language": "python",
   "name": "python3"
  },
  "language_info": {
   "codemirror_mode": {
    "name": "ipython",
    "version": 3
   },
   "file_extension": ".py",
   "mimetype": "text/x-python",
   "name": "python",
   "nbconvert_exporter": "python",
   "pygments_lexer": "ipython3",
   "version": "3.9.18"
  }
 },
 "nbformat": 4,
 "nbformat_minor": 2
}
